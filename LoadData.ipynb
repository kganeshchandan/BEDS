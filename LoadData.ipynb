{
 "cells": [
  {
   "cell_type": "code",
   "execution_count": 1,
   "id": "72e935aa",
   "metadata": {
    "scrolled": true
   },
   "outputs": [
    {
     "name": "stdout",
     "output_type": "stream",
     "text": [
      "Requirement already satisfied: nilearn in /home/ganesh/miniconda3/envs/csai/lib/python3.9/site-packages (0.9.1)\n",
      "Requirement already satisfied: pandas>=1.0 in /home/ganesh/miniconda3/envs/csai/lib/python3.9/site-packages (from nilearn) (1.4.1)\n",
      "Requirement already satisfied: numpy>=1.18 in /home/ganesh/miniconda3/envs/csai/lib/python3.9/site-packages (from nilearn) (1.21.2)\n",
      "Requirement already satisfied: requests>=2 in /home/ganesh/miniconda3/envs/csai/lib/python3.9/site-packages (from nilearn) (2.27.1)\n",
      "Requirement already satisfied: scipy>=1.5 in /home/ganesh/miniconda3/envs/csai/lib/python3.9/site-packages (from nilearn) (1.7.3)\n",
      "Requirement already satisfied: lxml in /home/ganesh/miniconda3/envs/csai/lib/python3.9/site-packages (from nilearn) (4.8.0)\n",
      "Requirement already satisfied: joblib>=0.15 in /home/ganesh/miniconda3/envs/csai/lib/python3.9/site-packages (from nilearn) (1.1.0)\n",
      "Requirement already satisfied: scikit-learn>=0.22 in /home/ganesh/miniconda3/envs/csai/lib/python3.9/site-packages (from nilearn) (1.0.2)\n",
      "Requirement already satisfied: nibabel>=3.0.0 in /home/ganesh/miniconda3/envs/csai/lib/python3.9/site-packages (from nilearn) (3.2.2)\n",
      "Requirement already satisfied: setuptools in /home/ganesh/miniconda3/envs/csai/lib/python3.9/site-packages (from nibabel>=3.0.0->nilearn) (58.0.4)\n",
      "Requirement already satisfied: packaging>=14.3 in /home/ganesh/miniconda3/envs/csai/lib/python3.9/site-packages (from nibabel>=3.0.0->nilearn) (21.3)\n",
      "Requirement already satisfied: pyparsing!=3.0.5,>=2.0.2 in /home/ganesh/miniconda3/envs/csai/lib/python3.9/site-packages (from packaging>=14.3->nibabel>=3.0.0->nilearn) (3.0.4)\n",
      "Requirement already satisfied: python-dateutil>=2.8.1 in /home/ganesh/miniconda3/envs/csai/lib/python3.9/site-packages (from pandas>=1.0->nilearn) (2.8.2)\n",
      "Requirement already satisfied: pytz>=2020.1 in /home/ganesh/miniconda3/envs/csai/lib/python3.9/site-packages (from pandas>=1.0->nilearn) (2021.3)\n",
      "Requirement already satisfied: six>=1.5 in /home/ganesh/miniconda3/envs/csai/lib/python3.9/site-packages (from python-dateutil>=2.8.1->pandas>=1.0->nilearn) (1.16.0)\n",
      "Requirement already satisfied: certifi>=2017.4.17 in /home/ganesh/miniconda3/envs/csai/lib/python3.9/site-packages (from requests>=2->nilearn) (2021.10.8)\n",
      "Requirement already satisfied: charset-normalizer~=2.0.0 in /home/ganesh/miniconda3/envs/csai/lib/python3.9/site-packages (from requests>=2->nilearn) (2.0.4)\n",
      "Requirement already satisfied: urllib3<1.27,>=1.21.1 in /home/ganesh/miniconda3/envs/csai/lib/python3.9/site-packages (from requests>=2->nilearn) (1.26.8)\n",
      "Requirement already satisfied: idna<4,>=2.5 in /home/ganesh/miniconda3/envs/csai/lib/python3.9/site-packages (from requests>=2->nilearn) (3.3)\n",
      "Requirement already satisfied: threadpoolctl>=2.0.0 in /home/ganesh/miniconda3/envs/csai/lib/python3.9/site-packages (from scikit-learn>=0.22->nilearn) (2.2.0)\n"
     ]
    }
   ],
   "source": [
    "!pip install nilearn\n",
    "import nilearn"
   ]
  },
  {
   "cell_type": "code",
   "execution_count": 4,
   "id": "4c09a68c",
   "metadata": {},
   "outputs": [],
   "source": [
    "from nilearn import image"
   ]
  },
  {
   "cell_type": "code",
   "execution_count": 9,
   "id": "9d8c36da",
   "metadata": {},
   "outputs": [
    {
     "ename": "FileNotFoundError",
     "evalue": "No such file or no access: './narratives/ds002345/sub-001/anat/sub-001_T1w.nii.gz'",
     "output_type": "error",
     "traceback": [
      "\u001b[0;31m---------------------------------------------------------------------------\u001b[0m",
      "\u001b[0;31mFileNotFoundError\u001b[0m                         Traceback (most recent call last)",
      "File \u001b[0;32m~/miniconda3/envs/csai/lib/python3.9/site-packages/nibabel/loadsave.py:42\u001b[0m, in \u001b[0;36mload\u001b[0;34m(filename, **kwargs)\u001b[0m\n\u001b[1;32m     41\u001b[0m \u001b[38;5;28;01mtry\u001b[39;00m:\n\u001b[0;32m---> 42\u001b[0m     stat_result \u001b[38;5;241m=\u001b[39m \u001b[43mos\u001b[49m\u001b[38;5;241;43m.\u001b[39;49m\u001b[43mstat\u001b[49m\u001b[43m(\u001b[49m\u001b[43mfilename\u001b[49m\u001b[43m)\u001b[49m\n\u001b[1;32m     43\u001b[0m \u001b[38;5;28;01mexcept\u001b[39;00m \u001b[38;5;167;01mOSError\u001b[39;00m:\n",
      "\u001b[0;31mFileNotFoundError\u001b[0m: [Errno 2] No such file or directory: './narratives/ds002345/sub-001/anat/sub-001_T1w.nii.gz'",
      "\nDuring handling of the above exception, another exception occurred:\n",
      "\u001b[0;31mFileNotFoundError\u001b[0m                         Traceback (most recent call last)",
      "Input \u001b[0;32mIn [9]\u001b[0m, in \u001b[0;36m<cell line: 1>\u001b[0;34m()\u001b[0m\n\u001b[0;32m----> 1\u001b[0m img \u001b[38;5;241m=\u001b[39m \u001b[43mimage\u001b[49m\u001b[38;5;241;43m.\u001b[39;49m\u001b[43mload_img\u001b[49m\u001b[43m(\u001b[49m\u001b[43m \u001b[49m\u001b[43mimg\u001b[49m\u001b[38;5;241;43m=\u001b[39;49m\u001b[38;5;124;43m'\u001b[39;49m\u001b[38;5;124;43m./narratives/ds002345/sub-001/anat/sub-001_T1w.nii.gz\u001b[39;49m\u001b[38;5;124;43m'\u001b[39;49m\u001b[43m)\u001b[49m\n",
      "File \u001b[0;32m~/miniconda3/envs/csai/lib/python3.9/site-packages/nilearn/image/image.py:1247\u001b[0m, in \u001b[0;36mload_img\u001b[0;34m(img, wildcards, dtype)\u001b[0m\n\u001b[1;32m   1211\u001b[0m \u001b[38;5;28;01mdef\u001b[39;00m \u001b[38;5;21mload_img\u001b[39m(img, wildcards\u001b[38;5;241m=\u001b[39m\u001b[38;5;28;01mTrue\u001b[39;00m, dtype\u001b[38;5;241m=\u001b[39m\u001b[38;5;28;01mNone\u001b[39;00m):\n\u001b[1;32m   1212\u001b[0m     \u001b[38;5;124;03m\"\"\"Load a Niimg-like object from filenames or list of filenames.\u001b[39;00m\n\u001b[1;32m   1213\u001b[0m \n\u001b[1;32m   1214\u001b[0m \u001b[38;5;124;03m    .. versionadded:: 0.2.5\u001b[39;00m\n\u001b[0;32m   (...)\u001b[0m\n\u001b[1;32m   1245\u001b[0m \n\u001b[1;32m   1246\u001b[0m \u001b[38;5;124;03m    \"\"\"\u001b[39;00m\n\u001b[0;32m-> 1247\u001b[0m     \u001b[38;5;28;01mreturn\u001b[39;00m \u001b[43mcheck_niimg\u001b[49m\u001b[43m(\u001b[49m\u001b[43mimg\u001b[49m\u001b[43m,\u001b[49m\u001b[43m \u001b[49m\u001b[43mwildcards\u001b[49m\u001b[38;5;241;43m=\u001b[39;49m\u001b[43mwildcards\u001b[49m\u001b[43m,\u001b[49m\u001b[43m \u001b[49m\u001b[43mdtype\u001b[49m\u001b[38;5;241;43m=\u001b[39;49m\u001b[43mdtype\u001b[49m\u001b[43m)\u001b[49m\n",
      "File \u001b[0;32m~/miniconda3/envs/csai/lib/python3.9/site-packages/nilearn/_utils/niimg_conversions.py:283\u001b[0m, in \u001b[0;36mcheck_niimg\u001b[0;34m(niimg, ensure_ndim, atleast_4d, dtype, return_iterator, wildcards)\u001b[0m\n\u001b[1;32m    280\u001b[0m     \u001b[38;5;28;01mreturn\u001b[39;00m concat_niimgs(niimg, ensure_ndim\u001b[38;5;241m=\u001b[39mensure_ndim, dtype\u001b[38;5;241m=\u001b[39mdtype)\n\u001b[1;32m    282\u001b[0m \u001b[38;5;66;03m# Otherwise, it should be a filename or a SpatialImage, we load it\u001b[39;00m\n\u001b[0;32m--> 283\u001b[0m niimg \u001b[38;5;241m=\u001b[39m \u001b[43mload_niimg\u001b[49m\u001b[43m(\u001b[49m\u001b[43mniimg\u001b[49m\u001b[43m,\u001b[49m\u001b[43m \u001b[49m\u001b[43mdtype\u001b[49m\u001b[38;5;241;43m=\u001b[39;49m\u001b[43mdtype\u001b[49m\u001b[43m)\u001b[49m\n\u001b[1;32m    285\u001b[0m \u001b[38;5;28;01mif\u001b[39;00m ensure_ndim \u001b[38;5;241m==\u001b[39m \u001b[38;5;241m3\u001b[39m \u001b[38;5;129;01mand\u001b[39;00m \u001b[38;5;28mlen\u001b[39m(niimg\u001b[38;5;241m.\u001b[39mshape) \u001b[38;5;241m==\u001b[39m \u001b[38;5;241m4\u001b[39m \u001b[38;5;129;01mand\u001b[39;00m niimg\u001b[38;5;241m.\u001b[39mshape[\u001b[38;5;241m3\u001b[39m] \u001b[38;5;241m==\u001b[39m \u001b[38;5;241m1\u001b[39m:\n\u001b[1;32m    286\u001b[0m     \u001b[38;5;66;03m# \"squeeze\" the image.\u001b[39;00m\n\u001b[1;32m    287\u001b[0m     data \u001b[38;5;241m=\u001b[39m _safe_get_data(niimg)\n",
      "File \u001b[0;32m~/miniconda3/envs/csai/lib/python3.9/site-packages/nilearn/_utils/niimg.py:128\u001b[0m, in \u001b[0;36mload_niimg\u001b[0;34m(niimg, dtype)\u001b[0m\n\u001b[1;32m    124\u001b[0m \u001b[38;5;28;01mfrom\u001b[39;00m \u001b[38;5;21;01m.\u001b[39;00m\u001b[38;5;21;01m.\u001b[39;00m\u001b[38;5;21;01mimage\u001b[39;00m \u001b[38;5;28;01mimport\u001b[39;00m new_img_like  \u001b[38;5;66;03m# avoid circular imports\u001b[39;00m\n\u001b[1;32m    126\u001b[0m \u001b[38;5;28;01mif\u001b[39;00m \u001b[38;5;28misinstance\u001b[39m(niimg, \u001b[38;5;28mstr\u001b[39m):\n\u001b[1;32m    127\u001b[0m     \u001b[38;5;66;03m# data is a filename, we load it\u001b[39;00m\n\u001b[0;32m--> 128\u001b[0m     niimg \u001b[38;5;241m=\u001b[39m \u001b[43mnibabel\u001b[49m\u001b[38;5;241;43m.\u001b[39;49m\u001b[43mload\u001b[49m\u001b[43m(\u001b[49m\u001b[43mniimg\u001b[49m\u001b[43m)\u001b[49m\n\u001b[1;32m    129\u001b[0m \u001b[38;5;28;01melif\u001b[39;00m \u001b[38;5;129;01mnot\u001b[39;00m \u001b[38;5;28misinstance\u001b[39m(niimg, nibabel\u001b[38;5;241m.\u001b[39mspatialimages\u001b[38;5;241m.\u001b[39mSpatialImage):\n\u001b[1;32m    130\u001b[0m     \u001b[38;5;28;01mraise\u001b[39;00m \u001b[38;5;167;01mTypeError\u001b[39;00m(\u001b[38;5;124m\"\u001b[39m\u001b[38;5;124mData given cannot be loaded because it is\u001b[39m\u001b[38;5;124m\"\u001b[39m\n\u001b[1;32m    131\u001b[0m                     \u001b[38;5;124m\"\u001b[39m\u001b[38;5;124m not compatible with nibabel format:\u001b[39m\u001b[38;5;130;01m\\n\u001b[39;00m\u001b[38;5;124m\"\u001b[39m\n\u001b[1;32m    132\u001b[0m                     \u001b[38;5;241m+\u001b[39m _repr_niimgs(niimg, shorten\u001b[38;5;241m=\u001b[39m\u001b[38;5;28;01mTrue\u001b[39;00m))\n",
      "File \u001b[0;32m~/miniconda3/envs/csai/lib/python3.9/site-packages/nibabel/loadsave.py:44\u001b[0m, in \u001b[0;36mload\u001b[0;34m(filename, **kwargs)\u001b[0m\n\u001b[1;32m     42\u001b[0m     stat_result \u001b[38;5;241m=\u001b[39m os\u001b[38;5;241m.\u001b[39mstat(filename)\n\u001b[1;32m     43\u001b[0m \u001b[38;5;28;01mexcept\u001b[39;00m \u001b[38;5;167;01mOSError\u001b[39;00m:\n\u001b[0;32m---> 44\u001b[0m     \u001b[38;5;28;01mraise\u001b[39;00m \u001b[38;5;167;01mFileNotFoundError\u001b[39;00m(\u001b[38;5;124mf\u001b[39m\u001b[38;5;124m\"\u001b[39m\u001b[38;5;124mNo such file or no access: \u001b[39m\u001b[38;5;124m'\u001b[39m\u001b[38;5;132;01m{\u001b[39;00mfilename\u001b[38;5;132;01m}\u001b[39;00m\u001b[38;5;124m'\u001b[39m\u001b[38;5;124m\"\u001b[39m)\n\u001b[1;32m     45\u001b[0m \u001b[38;5;28;01mif\u001b[39;00m stat_result\u001b[38;5;241m.\u001b[39mst_size \u001b[38;5;241m<\u001b[39m\u001b[38;5;241m=\u001b[39m \u001b[38;5;241m0\u001b[39m:\n\u001b[1;32m     46\u001b[0m     \u001b[38;5;28;01mraise\u001b[39;00m ImageFileError(\u001b[38;5;124mf\u001b[39m\u001b[38;5;124m\"\u001b[39m\u001b[38;5;124mEmpty file: \u001b[39m\u001b[38;5;124m'\u001b[39m\u001b[38;5;132;01m{\u001b[39;00mfilename\u001b[38;5;132;01m}\u001b[39;00m\u001b[38;5;124m'\u001b[39m\u001b[38;5;124m\"\u001b[39m)\n",
      "\u001b[0;31mFileNotFoundError\u001b[0m: No such file or no access: './narratives/ds002345/sub-001/anat/sub-001_T1w.nii.gz'"
     ]
    }
   ],
   "source": [
    "img = image.load_img( img='./narratives/ds002345/sub-001/anat/sub-001_T1w.nii.gz')"
   ]
  },
  {
   "cell_type": "code",
   "execution_count": null,
   "id": "ea80a5c7",
   "metadata": {},
   "outputs": [],
   "source": []
  }
 ],
 "metadata": {
  "kernelspec": {
   "display_name": "Python 3",
   "language": "python",
   "name": "python3"
  },
  "language_info": {
   "codemirror_mode": {
    "name": "ipython",
    "version": 3
   },
   "file_extension": ".py",
   "mimetype": "text/x-python",
   "name": "python",
   "nbconvert_exporter": "python",
   "pygments_lexer": "ipython3",
   "version": "3.9.7"
  }
 },
 "nbformat": 4,
 "nbformat_minor": 5
}
